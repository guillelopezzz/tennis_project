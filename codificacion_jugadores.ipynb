{
 "cells": [
  {
   "cell_type": "code",
   "execution_count": 1,
   "metadata": {},
   "outputs": [],
   "source": [
    "def codificacion(dataset, num_bits):\n",
    "    for col in ['winner_id', 'loser_id']:\n",
    "        dataset[col] = dataset[col].apply(lambda x: format(x, f'0{num_bits}b'))\n",
    "    return dataset"
   ]
  },
  {
   "cell_type": "code",
   "execution_count": 2,
   "metadata": {},
   "outputs": [],
   "source": [
    "import pandas as pd\n",
    "dataset = pd.read_csv('atp_matches_2023.csv')"
   ]
  },
  {
   "cell_type": "code",
   "execution_count": 3,
   "metadata": {},
   "outputs": [],
   "source": [
    "dataset = codificacion(dataset, 18)"
   ]
  },
  {
   "cell_type": "code",
   "execution_count": 4,
   "metadata": {},
   "outputs": [
    {
     "data": {
      "text/plain": [
       "0       011110110011111011\n",
       "1       011110110011111111\n",
       "2       011110110011111011\n",
       "3       011110110011111111\n",
       "4       011110111100110110\n",
       "               ...        \n",
       "2981    110001011001011111\n",
       "2982    011100101001110101\n",
       "2983    011101101001000011\n",
       "2984    100011011000110101\n",
       "2985    011101101001000011\n",
       "Name: winner_id, Length: 2986, dtype: object"
      ]
     },
     "execution_count": 4,
     "metadata": {},
     "output_type": "execute_result"
    }
   ],
   "source": [
    "dataset['winner_id']"
   ]
  }
 ],
 "metadata": {
  "kernelspec": {
   "display_name": "base",
   "language": "python",
   "name": "python3"
  },
  "language_info": {
   "codemirror_mode": {
    "name": "ipython",
    "version": 3
   },
   "file_extension": ".py",
   "mimetype": "text/x-python",
   "name": "python",
   "nbconvert_exporter": "python",
   "pygments_lexer": "ipython3",
   "version": "3.9.12"
  }
 },
 "nbformat": 4,
 "nbformat_minor": 2
}
