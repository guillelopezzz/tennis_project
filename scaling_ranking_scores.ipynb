{
 "cells": [
  {
   "cell_type": "code",
   "execution_count": 22,
   "metadata": {},
   "outputs": [],
   "source": [
    "import pandas as pd\n",
    "from ranking_scores import puntos_ranking\n",
    "dataset = pd.read_csv('atp_matches_2023.csv')\n",
    "dataset_r = pd.read_csv('atp_rankings_20s.csv')\n",
    "dataset = puntos_ranking(dataset, dataset_r, 2023)"
   ]
  },
  {
   "cell_type": "code",
   "execution_count": 23,
   "metadata": {},
   "outputs": [
    {
     "data": {
      "text/html": [
       "<div>\n",
       "<style scoped>\n",
       "    .dataframe tbody tr th:only-of-type {\n",
       "        vertical-align: middle;\n",
       "    }\n",
       "\n",
       "    .dataframe tbody tr th {\n",
       "        vertical-align: top;\n",
       "    }\n",
       "\n",
       "    .dataframe thead th {\n",
       "        text-align: right;\n",
       "    }\n",
       "</style>\n",
       "<table border=\"1\" class=\"dataframe\">\n",
       "  <thead>\n",
       "    <tr style=\"text-align: right;\">\n",
       "      <th></th>\n",
       "      <th>ranking_date</th>\n",
       "      <th>rank</th>\n",
       "      <th>player</th>\n",
       "      <th>points</th>\n",
       "      <th>year_month</th>\n",
       "    </tr>\n",
       "  </thead>\n",
       "  <tbody>\n",
       "    <tr>\n",
       "      <th>0</th>\n",
       "      <td>2020-01-06</td>\n",
       "      <td>1</td>\n",
       "      <td>104745</td>\n",
       "      <td>9985</td>\n",
       "      <td>2020-01</td>\n",
       "    </tr>\n",
       "    <tr>\n",
       "      <th>1</th>\n",
       "      <td>2020-01-06</td>\n",
       "      <td>2</td>\n",
       "      <td>104925</td>\n",
       "      <td>9055</td>\n",
       "      <td>2020-01</td>\n",
       "    </tr>\n",
       "    <tr>\n",
       "      <th>2</th>\n",
       "      <td>2020-01-06</td>\n",
       "      <td>3</td>\n",
       "      <td>103819</td>\n",
       "      <td>6590</td>\n",
       "      <td>2020-01</td>\n",
       "    </tr>\n",
       "    <tr>\n",
       "      <th>3</th>\n",
       "      <td>2020-01-06</td>\n",
       "      <td>4</td>\n",
       "      <td>106233</td>\n",
       "      <td>5825</td>\n",
       "      <td>2020-01</td>\n",
       "    </tr>\n",
       "    <tr>\n",
       "      <th>4</th>\n",
       "      <td>2020-01-06</td>\n",
       "      <td>5</td>\n",
       "      <td>106421</td>\n",
       "      <td>5705</td>\n",
       "      <td>2020-01</td>\n",
       "    </tr>\n",
       "  </tbody>\n",
       "</table>\n",
       "</div>"
      ],
      "text/plain": [
       "  ranking_date  rank  player  points year_month\n",
       "0   2020-01-06     1  104745    9985    2020-01\n",
       "1   2020-01-06     2  104925    9055    2020-01\n",
       "2   2020-01-06     3  103819    6590    2020-01\n",
       "3   2020-01-06     4  106233    5825    2020-01\n",
       "4   2020-01-06     5  106421    5705    2020-01"
      ]
     },
     "execution_count": 23,
     "metadata": {},
     "output_type": "execute_result"
    }
   ],
   "source": [
    "dataset_r.head()"
   ]
  },
  {
   "cell_type": "code",
   "execution_count": 24,
   "metadata": {},
   "outputs": [
    {
     "data": {
      "image/png": "[encoded data removed]",
      "text/plain": [
       "<Figure size 1000x600 with 1 Axes>"
      ]
     },
     "metadata": {},
     "output_type": "display_data"
    }
   ],
   "source": [
    "import matplotlib.pyplot as plt\n",
    "\n",
    "# Convertir la columna 'year_month' a string\n",
    "dataset_r['year_month'] = dataset_r['year_month'].astype(str)\n",
    "\n",
    "# Filtrar los datos para el año 2023\n",
    "dataset_2023 = dataset_r[dataset_r['year_month'].str.contains('2023')]\n",
    "\n",
    "# Crear un gráfico de dispersión de los puntos en función del ranking\n",
    "plt.figure(figsize=(10,6))\n",
    "plt.scatter(dataset_2023['rank'], dataset_2023['points'])\n",
    "plt.title('Puntos en el ranking ATP 2023')\n",
    "plt.xlabel('Ranking')\n",
    "plt.ylabel('Puntos')\n",
    "plt.show()"
   ]
  },
  {
   "cell_type": "code",
   "execution_count": 25,
   "metadata": {},
   "outputs": [
    {
     "data": {
      "text/html": [
       "<div>\n",
       "<style scoped>\n",
       "    .dataframe tbody tr th:only-of-type {\n",
       "        vertical-align: middle;\n",
       "    }\n",
       "\n",
       "    .dataframe tbody tr th {\n",
       "        vertical-align: top;\n",
       "    }\n",
       "\n",
       "    .dataframe thead th {\n",
       "        text-align: right;\n",
       "    }\n",
       "</style>\n",
       "<table border=\"1\" class=\"dataframe\">\n",
       "  <thead>\n",
       "    <tr style=\"text-align: right;\">\n",
       "      <th></th>\n",
       "      <th>winner_id</th>\n",
       "      <th>loser_id</th>\n",
       "      <th>surface</th>\n",
       "      <th>winner_points</th>\n",
       "      <th>loser_points</th>\n",
       "    </tr>\n",
       "  </thead>\n",
       "  <tbody>\n",
       "    <tr>\n",
       "      <th>0</th>\n",
       "      <td>126203</td>\n",
       "      <td>126610</td>\n",
       "      <td>Hard</td>\n",
       "      <td>3355</td>\n",
       "      <td>2375</td>\n",
       "    </tr>\n",
       "    <tr>\n",
       "      <th>1</th>\n",
       "      <td>126207</td>\n",
       "      <td>207518</td>\n",
       "      <td>Hard</td>\n",
       "      <td>2000</td>\n",
       "      <td>1865</td>\n",
       "    </tr>\n",
       "    <tr>\n",
       "      <th>2</th>\n",
       "      <td>126203</td>\n",
       "      <td>128034</td>\n",
       "      <td>Hard</td>\n",
       "      <td>3355</td>\n",
       "      <td>2905</td>\n",
       "    </tr>\n",
       "    <tr>\n",
       "      <th>3</th>\n",
       "      <td>126207</td>\n",
       "      <td>200390</td>\n",
       "      <td>Hard</td>\n",
       "      <td>2000</td>\n",
       "      <td>220</td>\n",
       "    </tr>\n",
       "    <tr>\n",
       "      <th>4</th>\n",
       "      <td>126774</td>\n",
       "      <td>126610</td>\n",
       "      <td>Hard</td>\n",
       "      <td>5550</td>\n",
       "      <td>2375</td>\n",
       "    </tr>\n",
       "  </tbody>\n",
       "</table>\n",
       "</div>"
      ],
      "text/plain": [
       "   winner_id  loser_id surface  winner_points  loser_points\n",
       "0     126203    126610    Hard           3355          2375\n",
       "1     126207    207518    Hard           2000          1865\n",
       "2     126203    128034    Hard           3355          2905\n",
       "3     126207    200390    Hard           2000           220\n",
       "4     126774    126610    Hard           5550          2375"
      ]
     },
     "execution_count": 25,
     "metadata": {},
     "output_type": "execute_result"
    }
   ],
   "source": [
    "dataset.head()"
   ]
  },
  {
   "cell_type": "markdown",
   "metadata": {},
   "source": [
    "Escalar los datos de puntos en el ranking entre 0.5 y 1 siguiendo una función logarítmica"
   ]
  },
  {
   "cell_type": "code",
   "execution_count": 26,
   "metadata": {},
   "outputs": [],
   "source": [
    "from sklearn.preprocessing import MinMaxScaler\n",
    "\n",
    "# Crear el escalador, ajustando el rango entre 0.5 y 1\n",
    "scaler = MinMaxScaler(feature_range=(0.5, 1))\n",
    "\n",
    "# Ajustar y transformar las columnas 'winner_rank_points' y 'loser_rank_points'\n",
    "dataset['winner_points'] = scaler.fit_transform(dataset[['winner_points']])\n",
    "dataset['loser_points'] = scaler.fit_transform(dataset[['loser_points']])"
   ]
  }
 ],
 "metadata": {
  "kernelspec": {
   "display_name": "optim-2",
   "language": "python",
   "name": "python3"
  },
  "language_info": {
   "codemirror_mode": {
    "name": "ipython",
    "version": 3
   },
   "file_extension": ".py",
   "mimetype": "text/x-python",
   "name": "python",
   "nbconvert_exporter": "python",
   "pygments_lexer": "ipython3",
   "version": "3.9.12"
  }
 },
 "nbformat": 4,
 "nbformat_minor": 2
}
