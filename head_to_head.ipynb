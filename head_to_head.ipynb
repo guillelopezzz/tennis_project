{
 "cells": [
  {
   "cell_type": "code",
   "execution_count": 16,
   "metadata": {},
   "outputs": [],
   "source": [
    "import pandas as pd\n",
    "\n",
    "def calculate_head_to_head(dataset):\n",
    "    # Convertir la columna 'tourney_date' a formato de fecha\n",
    "    dataset['tourney_date'] = pd.to_datetime(dataset['tourney_date'], format='%Y%m%d')\n",
    "\n",
    "    # Ordenar el dataset por fecha\n",
    "    dataset = dataset.sort_values('tourney_date')\n",
    "\n",
    "    # Inicializar una nueva columna para el historial de enfrentamientos directos\n",
    "    dataset['head_to_head'] = -1.0\n",
    "    '''dataset['num_matches'] = 0'''\n",
    "    # Iterar sobre las filas del dataset\n",
    "    for index, row in dataset.iterrows():\n",
    "        # Obtener los partidos anteriores entre los dos jugadores\n",
    "        previous_matches = dataset[((dataset['winner_id'] == row['winner_id']) & (dataset['loser_id'] == row['loser_id']) | (dataset['winner_id'] == row['loser_id']) & (dataset['loser_id'] == row['winner_id'])) & (dataset['tourney_date'] < row['tourney_date'])]\n",
    "\n",
    "        if not previous_matches.empty:\n",
    "            # Calcular el porcentaje de veces que el 'winner_id' ha ganado\n",
    "            wins = len(previous_matches[previous_matches['winner_id'] == row['winner_id']])\n",
    "            total = len(previous_matches)\n",
    "            dataset.at[index, 'head_to_head'] = wins / total\n",
    "            '''# Calcular el número de partidos jugados\n",
    "            dataset.at[index, 'num_matches'] = total'''\n",
    "\n",
    "    return dataset\n",
    "\n"
   ]
  },
  {
   "cell_type": "code",
   "execution_count": 13,
   "metadata": {},
   "outputs": [],
   "source": [
    "# Cargar los datos de los años 2022 y 2023\n",
    "data_2021 = pd.read_csv('atp_matches_2021.csv')\n",
    "data_2022 = pd.read_csv('atp_matches_2022.csv')\n",
    "data_2023 = pd.read_csv('atp_matches_2023.csv')\n",
    "data_2021_qc = pd.read_csv('atp_matches_qual_chall_2021.csv')\n",
    "data_2022_qc = pd.read_csv('atp_matches_qual_chall_2022.csv')\n",
    "data_2023_qc = pd.read_csv('atp_matches_qual_chall_2023.csv')\n",
    "\n",
    "# Agregar una columna 'source' a cada DataFrame\n",
    "data_2021['source'] = 'atp_matches_2021.csv'\n",
    "data_2022['source'] = 'atp_matches_2022.csv'\n",
    "data_2023['source'] = 'atp_matches_2023.csv'\n",
    "data_2021_qc['source'] = 'atp_matches_qual_chall_2021.csv'\n",
    "data_2022_qc['source'] = 'atp_matches_qual_chall_2022.csv'\n",
    "data_2023_qc['source'] = 'atp_matches_qual_chall_2023.csv'\n",
    "\n",
    "# Combinar los datos en un solo DataFrame\n",
    "data_all = pd.concat([data_2021, data_2021_qc, data_2022, data_2022_qc, data_2023, data_2023_qc])\n",
    "\n",
    "# Aplicar la función calculate_head_to_head\n",
    "data_all = calculate_head_to_head(data_all)\n",
    "\n",
    "# Filtrar los datos para obtener solo los partidos de 2023 del archivo 'atp_matches_2023.csv'\n",
    "data_2023 = data_all[(data_all['tourney_date'].dt.year == 2023) & (data_all['source'] == 'atp_matches_2023.csv')]\n"
   ]
  },
  {
   "cell_type": "code",
   "execution_count": 20,
   "metadata": {},
   "outputs": [],
   "source": [
    "dataset = pd.read_csv('atp_matches_qual_chall_2023.csv')\n",
    "dataset = calculate_head_to_head(dataset)"
   ]
  },
  {
   "cell_type": "code",
   "execution_count": 6,
   "metadata": {},
   "outputs": [
    {
     "ename": "NameError",
     "evalue": "name 'dataset' is not defined",
     "output_type": "error",
     "traceback": [
      "\u001b[1;31m---------------------------------------------------------------------------\u001b[0m",
      "\u001b[1;31mNameError\u001b[0m                                 Traceback (most recent call last)",
      "Input \u001b[1;32mIn [6]\u001b[0m, in \u001b[0;36m<cell line: 1>\u001b[1;34m()\u001b[0m\n\u001b[1;32m----> 1\u001b[0m primera_fecha \u001b[38;5;241m=\u001b[39m \u001b[43mdataset\u001b[49m[\u001b[38;5;124m'\u001b[39m\u001b[38;5;124mtourney_date\u001b[39m\u001b[38;5;124m'\u001b[39m]\u001b[38;5;241m.\u001b[39mmin()\n\u001b[0;32m      2\u001b[0m \u001b[38;5;28mprint\u001b[39m(\u001b[38;5;124mf\u001b[39m\u001b[38;5;124m\"\u001b[39m\u001b[38;5;124mLa primera fecha en \u001b[39m\u001b[38;5;124m'\u001b[39m\u001b[38;5;124mtourney_date\u001b[39m\u001b[38;5;124m'\u001b[39m\u001b[38;5;124m es \u001b[39m\u001b[38;5;132;01m{\u001b[39;00mprimera_fecha\u001b[38;5;132;01m}\u001b[39;00m\u001b[38;5;124m\"\u001b[39m)\n",
      "\u001b[1;31mNameError\u001b[0m: name 'dataset' is not defined"
     ]
    }
   ],
   "source": [
    "primera_fecha = dataset['tourney_date'].min()\n",
    "print(f\"La primera fecha en 'tourney_date' es {primera_fecha}\")\n"
   ]
  },
  {
   "cell_type": "code",
   "execution_count": 14,
   "metadata": {},
   "outputs": [
    {
     "data": {
      "text/plain": [
       "0.775284661754856"
      ]
     },
     "execution_count": 14,
     "metadata": {},
     "output_type": "execute_result"
    }
   ],
   "source": [
    "data_2023['head_to_head'][data_2023['head_to_head'] != -1.0].count() / len(data_2023)"
   ]
  },
  {
   "cell_type": "code",
   "execution_count": 15,
   "metadata": {},
   "outputs": [
    {
     "data": {
      "text/plain": [
       "9"
      ]
     },
     "execution_count": 15,
     "metadata": {},
     "output_type": "execute_result"
    }
   ],
   "source": [
    "data_2023['num_matches'].max()"
   ]
  },
  {
   "cell_type": "markdown",
   "metadata": {},
   "source": [
    "Problema: la gran mayoría de partidos son primer enfrentamiento. Para que la función head_to_head tenga mayor utilidad habrá que unir los datasets de varios años atrás. Puede ser que para esto haya que tener en cuenta de alguna forma en que año son los enfrentamientos"
   ]
  }
 ],
 "metadata": {
  "kernelspec": {
   "display_name": "base",
   "language": "python",
   "name": "python3"
  },
  "language_info": {
   "codemirror_mode": {
    "name": "ipython",
    "version": 3
   },
   "file_extension": ".py",
   "mimetype": "text/x-python",
   "name": "python",
   "nbconvert_exporter": "python",
   "pygments_lexer": "ipython3",
   "version": "3.9.12"
  }
 },
 "nbformat": 4,
 "nbformat_minor": 2
}
